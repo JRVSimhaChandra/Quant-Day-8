{
 "cells": [
  {
   "cell_type": "markdown",
   "id": "fc60d1df-749f-488f-bff6-53f16e04d88d",
   "metadata": {},
   "source": [
    "## Term structures and their reference\n",
    "Dates"
   ]
  },
  {
   "cell_type": "markdown",
   "id": "1dcb56af-d24d-4bb5-9b0b-2cc1d6a8b1df",
   "metadata": {},
   "source": [
    "## SETUP"
   ]
  },
  {
   "cell_type": "code",
   "execution_count": 1,
   "id": "729e5423-9b3d-4ee1-9858-58de1422bb2e",
   "metadata": {},
   "outputs": [],
   "source": [
    "from QuantLib import *"
   ]
  },
  {
   "cell_type": "code",
   "execution_count": 2,
   "id": "1a42c38d-2edd-44ce-a567-5e2684b74c8e",
   "metadata": {},
   "outputs": [],
   "source": [
    "Settings.instance().evaluationDate = Date(3, October, 2024)"
   ]
  },
  {
   "cell_type": "markdown",
   "id": "b9c31893-6182-4049-8dcf-762d3f243518",
   "metadata": {},
   "source": [
    "## Specifying the reference date of a term structure"
   ]
  },
  {
   "cell_type": "markdown",
   "id": "dd8b1b63-7878-4a9d-a113-98bbf080aaea",
   "metadata": {},
   "source": [
    " In not-too-accurate terms, the reference date of a term structure is where it begins. It can be the\n",
    "evaluation date, but you might also want it to start on the spot date, for instance.\n",
    "\n",
    "We have two possibilities to define a reference date for a curve—even though some particular classes\n",
    "only allow one of them.\n",
    "                                                    \n",
    "The first is to define it by means of a (possibly null) offset from the current evaluation date; e.g.,\n",
    "“two business days after the evaluation date” to define it as the spot date, or “no business days” to\n",
    "define it as the evaluation date itself. I’ll do it here by building a sample curve over a few swaps.\n",
    "\n",
    "Never mind the helper object that I’m building here."
   ]
  },
  {
   "cell_type": "code",
   "execution_count": 4,
   "id": "6af6a102-eec4-4947-8832-0de47498f223",
   "metadata": {},
   "outputs": [],
   "source": [
    "from QuantLib import *\n",
    "\n",
    "helpers = [ SwapRateHelper(QuoteHandle(SimpleQuote(rate/100.0)),\n",
    "                           Period(*tenor), TARGET(),\n",
    "                           Annual, Unadjusted,\n",
    "                           Thirty360(Thirty360.BondBasis),  # Provide the convention argument\n",
    "                           Euribor6M())\n",
    "           for tenor, rate in [((2, Years), 0.201),\n",
    "                               ((3, Years), 0.258),\n",
    "                               ((5, Years), 0.464),\n",
    "                               ((10, Years), 1.151),\n",
    "                               ((15, Years), 1.588)] ]\n"
   ]
  },
  {
   "cell_type": "code",
   "execution_count": 5,
   "id": "96a2923c-0fae-428b-8b0c-4129a2a2289b",
   "metadata": {},
   "outputs": [],
   "source": [
    "curvel = PiecewiseFlatForward(0, TARGET(), helpers, Actual360())"
   ]
  },
  {
   "cell_type": "code",
   "execution_count": 6,
   "id": "64916b41-961b-4455-9823-e98162e21bd6",
   "metadata": {},
   "outputs": [],
   "source": [
    "dates, rates = zip(*curvel.nodes())"
   ]
  },
  {
   "cell_type": "code",
   "execution_count": 7,
   "id": "a86f376d-fd78-4f1e-abf0-ba775e36c7aa",
   "metadata": {},
   "outputs": [
    {
     "data": {
      "text/plain": [
       "((Date(3,10,2024), 0.001980476041110911),\n",
       " (Date(7,10,2026), 0.001980476041110911),\n",
       " (Date(7,10,2027), 0.003667536804779306),\n",
       " (Date(8,10,2029), 0.007618799130020174),\n",
       " (Date(9,10,2034), 0.018415644708941643),\n",
       " (Date(7,10,2039), 0.02535386593054697))"
      ]
     },
     "execution_count": 7,
     "metadata": {},
     "output_type": "execute_result"
    }
   ],
   "source": [
    "curvel.nodes()"
   ]
  },
  {
   "cell_type": "code",
   "execution_count": 8,
   "id": "517e0f1a-c152-41b7-bbd1-2fb8208a1a23",
   "metadata": {},
   "outputs": [],
   "source": [
    "curve2 = ForwardCurve(dates, rates, Actual360())"
   ]
  },
  {
   "cell_type": "code",
   "execution_count": 15,
   "id": "561b8237-5aa7-4d25-8a66-3ff838346605",
   "metadata": {},
   "outputs": [
    {
     "name": "stdout",
     "output_type": "stream",
     "text": [
      "October 3rd, 2024 to October 7th, 2039\n",
      "October 3rd, 2024 to October 7th, 2039\n"
     ]
    }
   ],
   "source": [
    "curvel = PiecewiseFlatForward(0, TARGET(), helpers, Actual360())  # Assuming PiecewiseFlatForward, TARGET, helpers, Actual360 are already defined\n",
    "dates, rates = zip(*curvel.nodes())\n",
    "curvel.nodes()\n",
    "curve2 = ForwardCurve(dates, rates, Actual360())  # Assuming ForwardCurve, Actual360 are already defined\n",
    "print(\"{0} to {1}\".format(curvel.referenceDate(), curvel.maxDate()))  # Changed curve1 to curvel\n",
    "print(\"{0} to {1}\".format(curve2.referenceDate(), curve2.maxDate()))"
   ]
  },
  {
   "cell_type": "code",
   "execution_count": 17,
   "id": "611faec1-ae0e-4c70-ae22-4f5199831835",
   "metadata": {},
   "outputs": [
    {
     "name": "stdout",
     "output_type": "stream",
     "text": [
      "0.451839 % Actual/360 continuous compounding\n",
      "0.451839 % Actual/360 continuous compounding\n"
     ]
    }
   ],
   "source": [
    "print(curvel.zeroRate(5.0, Continuous))  # Changed curve1 to curvel\n",
    "print(curve2.zeroRate(5.0, Continuous))"
   ]
  },
  {
   "cell_type": "code",
   "execution_count": 19,
   "id": "c6723bb7-048a-47de-bde5-7f0a3896c5e6",
   "metadata": {},
   "outputs": [
    {
     "name": "stdout",
     "output_type": "stream",
     "text": [
      "Error: Target date is before the reference date of the curve.\n"
     ]
    }
   ],
   "source": [
    "import QuantLib as ql\n",
    "\n",
    "# ... (your existing code to define helpers, curvel, etc.) ...\n",
    "\n",
    "# Get the reference date of curvel\n",
    "reference_date = curvel.referenceDate()\n",
    "\n",
    "# Target date\n",
    "target_date = ql.Date(7, ql.September, 2024)\n",
    "\n",
    "# Check if the target date is before the reference date\n",
    "if target_date < reference_date:\n",
    "    print(\"Error: Target date is before the reference date of the curve.\")\n",
    "    # Handle the error appropriately, e.g., by choosing a later target date\n",
    "else:\n",
    "    # Calculate the zero rate if the target date is valid\n",
    "    print(curvel.zeroRate(target_date, ql.Actual360(), ql.Continuous))"
   ]
  },
  {
   "cell_type": "code",
   "execution_count": 22,
   "id": "83fd3148-1edb-43e4-89c4-a0db796b4f37",
   "metadata": {},
   "outputs": [
    {
     "name": "stdout",
     "output_type": "stream",
     "text": [
      "Defaulting to user installation because normal site-packages is not writeable\n",
      "Requirement already satisfied: utils in c:\\users\\chand\\appdata\\roaming\\python\\python312\\site-packages (1.0.2)\n"
     ]
    }
   ],
   "source": [
    "!pip install utils\n",
    "import utils\n",
    "from matplotlib.ticker import FuncFormatter\n",
    "import numpy as np"
   ]
  },
  {
   "cell_type": "code",
   "execution_count": 23,
   "id": "a6601aa6-78c1-469c-9500-e6b7f8ff8080",
   "metadata": {},
   "outputs": [
    {
     "data": {
      "image/png": "[encoded data removed]",
      "text/plain": [
       "<Figure size 640x480 with 1 Axes>"
      ]
     },
     "metadata": {},
     "output_type": "display_data"
    }
   ],
   "source": [
    "import matplotlib.pyplot as plt\n",
    "import numpy as np\n",
    "from matplotlib.ticker import FuncFormatter\n",
    "\n",
    "# ... (your existing code to define helpers, curvel, etc.) ...\n",
    "\n",
    "times = np.linspace(0.0, 15.0, 400)\n",
    "rates = [curvel.zeroRate(t, Continuous).rate() for t in times]\n",
    "\n",
    "# Create a figure and an axes object using matplotlib.pyplot\n",
    "fig, ax = plt.subplots()  \n",
    "\n",
    "ax.yaxis.set_major_formatter(\n",
    "    FuncFormatter(lambda r, pos: \"{:.2f}%\".format(r * 100))  # Format rate as percentage\n",
    ")\n",
    "ax.plot(times, rates)\n",
    "plt.show()  # Display the plot"
   ]
  },
  {
   "cell_type": "markdown",
   "id": "3408a9be-ee03-4932-af36-54ca5334fe5f",
   "metadata": {},
   "source": [
    "## Moving the evaluation date"
   ]
  },
  {
   "cell_type": "code",
   "execution_count": 24,
   "id": "cd7755ea-d178-40bc-b659-8fb7aad1b05f",
   "metadata": {},
   "outputs": [],
   "source": [
    "Settings.instance().evaluationDate = Date(19, September, 2024)"
   ]
  },
  {
   "cell_type": "code",
   "execution_count": 29,
   "id": "9f3e819f-43f7-43e3-9579-713f09e798c5",
   "metadata": {},
   "outputs": [
    {
     "name": "stdout",
     "output_type": "stream",
     "text": [
      "September 19th, 2024 to September 23rd, 2039\n",
      "October 3rd, 2024 to October 7th, 2039\n"
     ]
    }
   ],
   "source": [
    "import QuantLib as ql\n",
    "\n",
    "# ... (Your existing code to define helpers, deposit rates, etc.) ...\n",
    "\n",
    "# Assuming you have defined curvel, and want it to be curve1 instead\n",
    "curve1 = curvel  \n",
    "\n",
    "# Similarly, define curve2 if needed\n",
    "# curve2 = ... # Replace ... with appropriate construction of curve2\n",
    "\n",
    "\n",
    "print(\"{0} to {1}\".format(curve1.referenceDate(), curve1.maxDate()))\n",
    "print(\"{0} to {1}\".format(curve2.referenceDate(), curve2.maxDate()))"
   ]
  },
  {
   "cell_type": "code",
   "execution_count": 30,
   "id": "15fb6083-9a3c-4536-958d-9377a20342ea",
   "metadata": {},
   "outputs": [
    {
     "name": "stdout",
     "output_type": "stream",
     "text": [
      "0.451839 % Actual/360 continuous compounding\n",
      "0.451839 % Actual/360 continuous compounding\n"
     ]
    }
   ],
   "source": [
    "print(curve1.zeroRate(5.0, Continuous))\n",
    "print(curve2.zeroRate(5.0, Continuous))"
   ]
  },
  {
   "cell_type": "code",
   "execution_count": 33,
   "id": "3fa0f775-a1a7-4c2c-807d-b847cc46bc17",
   "metadata": {},
   "outputs": [
    {
     "name": "stdout",
     "output_type": "stream",
     "text": [
      "Warning: Date for zero rate calculation is before the evaluation date. Using evaluation date instead.\n",
      "0.198048 % Actual/360 continuous compounding\n",
      "0.198048 % Actual/360 continuous compounding\n"
     ]
    }
   ],
   "source": [
    "import QuantLib as ql\n",
    "\n",
    "# ... (Your existing code to define helpers, deposit rates, etc.) ...\n",
    "\n",
    "# Assuming you have defined curvel, and want it to be curve1 instead\n",
    "curve1 = curvel\n",
    "\n",
    "# Similarly, define curve2 if needed\n",
    "# curve2 = ... # Replace ... with appropriate construction of curve2\n",
    "\n",
    "# Get the evaluation date (reference date)\n",
    "evaluation_date = ql.Settings.instance().evaluationDate\n",
    "\n",
    "# Ensure the date for zero rate calculation is not before the evaluation date\n",
    "date_for_zero_rate = ql.Date(7, September, 2024)\n",
    "if date_for_zero_rate < evaluation_date:\n",
    "    print(\"Warning: Date for zero rate calculation is before the evaluation date. \"\n",
    "          \"Using evaluation date instead.\")\n",
    "    date_for_zero_rate = evaluation_date\n",
    "\n",
    "# Calculate day count fraction instead of using date directly\n",
    "day_count_fraction = ql.Actual360().yearFraction(evaluation_date, date_for_zero_rate)\n",
    "\n",
    "print(curve1.zeroRate(day_count_fraction, ql.Continuous)) # Pass day count fraction\n",
    "print(curve2.zeroRate(day_count_fraction, ql.Continuous)) # Pass day count fraction"
   ]
  },
  {
   "cell_type": "code",
   "execution_count": 34,
   "id": "93fde93b-91fb-45b7-ad37-312b8b5bbe23",
   "metadata": {},
   "outputs": [],
   "source": [
    "def make_observer(i):\n",
    "    def say():\n",
    "        s = \"Observer %d notified\" % i\n",
    "        print('-'*len(s))\n",
    "        print(s)\n",
    "        print('-'*len(s))\n",
    "    return Observer(say)\n",
    "\n",
    "obs1 = make_observer(1)\n",
    "obs2 = make_observer(2)"
   ]
  },
  {
   "cell_type": "code",
   "execution_count": 37,
   "id": "41a98c71-0cf8-405a-8855-960c1398f2f4",
   "metadata": {},
   "outputs": [],
   "source": [
    "q1 = SimpleQuote(1.0)\n",
    "obs1.registerWith(q1)\n",
    "\n",
    "q2 = SimpleQuote(2.0)\n",
    "obs2.registerWith(q2)\n",
    "\n",
    "q3 = SimpleQuote(3.0)\n",
    "obs1.registerWith(q3) # Changed 'obs' to 'obs1' or 'obs2' as intended\n",
    "obs2.registerWith(q3)"
   ]
  },
  {
   "cell_type": "code",
   "execution_count": 39,
   "id": "1320a47f-3c56-437f-bf3b-9b5be5011182",
   "metadata": {},
   "outputs": [
    {
     "name": "stdout",
     "output_type": "stream",
     "text": [
      "-------------------\n",
      "Observer 1 notified\n",
      "-------------------\n"
     ]
    }
   ],
   "source": [
    "q1.setValue(1.5)"
   ]
  },
  {
   "cell_type": "code",
   "execution_count": 40,
   "id": "d99ca707-c0a6-445e-8c87-1c6d76f151d9",
   "metadata": {},
   "outputs": [
    {
     "name": "stdout",
     "output_type": "stream",
     "text": [
      "-------------------\n",
      "Observer 2 notified\n",
      "-------------------\n"
     ]
    }
   ],
   "source": [
    "q2.setValue(1.9)"
   ]
  },
  {
   "cell_type": "code",
   "execution_count": 41,
   "id": "4161edb9-8d16-4f7c-8254-933a90d9e44f",
   "metadata": {},
   "outputs": [
    {
     "name": "stdout",
     "output_type": "stream",
     "text": [
      "-------------------\n",
      "Observer 2 notified\n",
      "-------------------\n",
      "-------------------\n",
      "Observer 1 notified\n",
      "-------------------\n"
     ]
    }
   ],
   "source": [
    "q3.setValue(3.1)"
   ]
  },
  {
   "cell_type": "code",
   "execution_count": 42,
   "id": "da25d653-661d-44b5-a978-87e7a4dba241",
   "metadata": {},
   "outputs": [],
   "source": [
    "obs1.registerWith(curve1)\n",
    "obs2.registerWith(curve2)"
   ]
  },
  {
   "cell_type": "code",
   "execution_count": 45,
   "id": "2253b308-749b-494e-b87c-d5759e930d08",
   "metadata": {},
   "outputs": [],
   "source": [
    "Settings.instance().evaluationdate = Date(23, September, 2014)"
   ]
  },
  {
   "cell_type": "code",
   "execution_count": null,
   "id": "79c45a74-ac9c-4e71-9fd5-5733b4bb46b5",
   "metadata": {},
   "outputs": [],
   "source": []
  }
 ],
 "metadata": {
  "kernelspec": {
   "display_name": "Python 3 (ipykernel)",
   "language": "python",
   "name": "python3"
  },
  "language_info": {
   "codemirror_mode": {
    "name": "ipython",
    "version": 3
   },
   "file_extension": ".py",
   "mimetype": "text/x-python",
   "name": "python",
   "nbconvert_exporter": "python",
   "pygments_lexer": "ipython3",
   "version": "3.12.4"
  }
 },
 "nbformat": 4,
 "nbformat_minor": 5
}
